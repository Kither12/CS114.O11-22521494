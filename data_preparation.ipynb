{
  "cells": [
    {
      "cell_type": "markdown",
      "metadata": {
        "id": "view-in-github",
        "colab_type": "text"
      },
      "source": [
        "<a href=\"https://colab.research.google.com/github/Kither12/CS114.O11-22521494/blob/main/data_preparation.ipynb\" target=\"_parent\"><img src=\"https://colab.research.google.com/assets/colab-badge.svg\" alt=\"Open In Colab\"/></a>"
      ]
    },
    {
      "cell_type": "code",
      "execution_count": null,
      "metadata": {
        "id": "dSNUZWm-Z6wO"
      },
      "outputs": [],
      "source": [
        "%%capture\n",
        "!pip install TTS\n",
        "!pip install datasets"
      ]
    },
    {
      "cell_type": "code",
      "execution_count": null,
      "metadata": {
        "colab": {
          "base_uri": "https://localhost:8080/"
        },
        "id": "Ao0F5x1bQL5H",
        "outputId": "ba7b3c0a-689e-4be8-f9cb-3c0ada59cf35"
      },
      "outputs": [
        {
          "output_type": "stream",
          "name": "stdout",
          "text": [
            "Mounted at /content/drive\n"
          ]
        }
      ],
      "source": [
        "from google.colab import auth\n",
        "auth.authenticate_user()\n",
        "from google.colab import drive\n",
        "drive.mount('/content/drive')"
      ]
    },
    {
      "cell_type": "code",
      "execution_count": null,
      "metadata": {
        "id": "BYuB2tLhU3p-"
      },
      "outputs": [],
      "source": [
        "mf = open(\"/content/drive/MyDrive/ML005/data.txt\", \"r+\")\n",
        "file_line = mf.readline()\n",
        "text = []\n",
        "audio = []\n",
        "for i in range(5000, 9834):\n",
        "  audio.append(f\"audio/au{i}.wav\")"
      ]
    },
    {
      "cell_type": "code",
      "source": [
        "mf = open(\"/content/drive/MyDrive/ML005/Data_1.txt\", \"r+\")\n",
        "file_line = mf.readline()\n",
        "while file_line:\n",
        "    if file_line != '\\n':\n",
        "      text.append(file_line)\n",
        "    file_line = mf.readline()\n",
        "mf.close()\n",
        "len(text)"
      ],
      "metadata": {
        "colab": {
          "base_uri": "https://localhost:8080/"
        },
        "id": "M-T4C-IijgGT",
        "outputId": "78649937-3ca3-4048-82e8-1fd52af86c62"
      },
      "execution_count": null,
      "outputs": [
        {
          "output_type": "execute_result",
          "data": {
            "text/plain": [
              "1000"
            ]
          },
          "metadata": {},
          "execution_count": 4
        }
      ]
    },
    {
      "cell_type": "code",
      "source": [
        "mf = open(\"/content/drive/MyDrive/ML005/Data_2.txt\", \"r+\")\n",
        "file_line = mf.readline()\n",
        "cnt = 0\n",
        "while file_line:\n",
        "    if file_line != '\\n':\n",
        "      text.append(file_line)\n",
        "    file_line = mf.readline()\n",
        "mf.close()\n",
        "len(text)"
      ],
      "metadata": {
        "colab": {
          "base_uri": "https://localhost:8080/"
        },
        "id": "KsVfQ2X1kIxc",
        "outputId": "093f176e-2dac-42fb-c68f-b3f77e43820f"
      },
      "execution_count": null,
      "outputs": [
        {
          "output_type": "execute_result",
          "data": {
            "text/plain": [
              "2000"
            ]
          },
          "metadata": {},
          "execution_count": 5
        }
      ]
    },
    {
      "cell_type": "code",
      "source": [
        "mf = open(\"/content/drive/MyDrive/ML005/Data_3.txt\", \"r+\")\n",
        "file_line = mf.readline()\n",
        "cnt = 0\n",
        "while file_line:\n",
        "    if file_line != '\\n':\n",
        "      text.append(file_line)\n",
        "      cnt += 1\n",
        "    if cnt == 1000:\n",
        "        break\n",
        "    file_line = mf.readline()\n",
        "mf.close()\n",
        "len(text)"
      ],
      "metadata": {
        "colab": {
          "base_uri": "https://localhost:8080/"
        },
        "id": "4mQc8KnxkRqf",
        "outputId": "9088ea8f-364c-4135-ddaa-cfd0609fb278"
      },
      "execution_count": null,
      "outputs": [
        {
          "output_type": "execute_result",
          "data": {
            "text/plain": [
              "3000"
            ]
          },
          "metadata": {},
          "execution_count": 6
        }
      ]
    },
    {
      "cell_type": "code",
      "source": [
        "mf = open(\"/content/drive/MyDrive/ML005/Data_4.txt\", \"r+\")\n",
        "file_line = mf.readline()\n",
        "cnt = 0\n",
        "while file_line:\n",
        "    if file_line != '\\n':\n",
        "      text.append(file_line)\n",
        "    file_line = mf.readline()\n",
        "mf.close()\n",
        "len(text)"
      ],
      "metadata": {
        "colab": {
          "base_uri": "https://localhost:8080/"
        },
        "id": "V39s2SjDkS55",
        "outputId": "63245d8b-f089-4319-c422-5315c2254adf"
      },
      "execution_count": null,
      "outputs": [
        {
          "output_type": "execute_result",
          "data": {
            "text/plain": [
              "4000"
            ]
          },
          "metadata": {},
          "execution_count": 7
        }
      ]
    },
    {
      "cell_type": "code",
      "source": [
        "mf = open(\"/content/drive/MyDrive/ML005/Data_5.txt\", \"r+\")\n",
        "file_line = mf.readline()\n",
        "cnt = 0\n",
        "while file_line:\n",
        "    if file_line != '\\n':\n",
        "      text.append(file_line)\n",
        "    file_line = mf.readline()\n",
        "mf.close()\n",
        "len(text)"
      ],
      "metadata": {
        "colab": {
          "base_uri": "https://localhost:8080/"
        },
        "id": "ndu92wZHkT80",
        "outputId": "0f5a5503-c1d8-4e25-c573-5c7ce6430e9b"
      },
      "execution_count": null,
      "outputs": [
        {
          "output_type": "execute_result",
          "data": {
            "text/plain": [
              "4834"
            ]
          },
          "metadata": {},
          "execution_count": 8
        }
      ]
    },
    {
      "cell_type": "code",
      "source": [
        "text = [line.strip('\\n') for line in text]"
      ],
      "metadata": {
        "id": "Hx12uQ8Eo8y9"
      },
      "execution_count": null,
      "outputs": []
    },
    {
      "cell_type": "code",
      "execution_count": null,
      "metadata": {
        "id": "jOkddE20ILRc"
      },
      "outputs": [],
      "source": [
        "import pandas as pd\n",
        "metadata = pd.DataFrame({'file_name': audio, 'text': text})"
      ]
    },
    {
      "cell_type": "code",
      "execution_count": null,
      "metadata": {
        "id": "A3l_zZOrUUhg"
      },
      "outputs": [],
      "source": [
        "metadata.to_csv('/content/drive/MyDrive/ML005/AudioFolder/metadata.csv',index = False)"
      ]
    },
    {
      "cell_type": "code",
      "source": [],
      "metadata": {
        "id": "fxb3x-wT_t0t"
      },
      "execution_count": null,
      "outputs": []
    },
    {
      "cell_type": "code",
      "source": [
        "4780"
      ],
      "metadata": {
        "id": "7diQ6NwD_yoX",
        "colab": {
          "base_uri": "https://localhost:8080/"
        },
        "outputId": "56342444-4e5b-4bf2-a086-cffea2119bfe"
      },
      "execution_count": null,
      "outputs": [
        {
          "output_type": "execute_result",
          "data": {
            "text/plain": [
              "4780"
            ]
          },
          "metadata": {},
          "execution_count": 12
        }
      ]
    }
  ],
  "metadata": {
    "colab": {
      "provenance": [],
      "authorship_tag": "ABX9TyNkTC82MrWnE5/gJhDlZoR4",
      "include_colab_link": true
    },
    "kernelspec": {
      "display_name": "Python 3",
      "name": "python3"
    },
    "language_info": {
      "name": "python"
    }
  },
  "nbformat": 4,
  "nbformat_minor": 0
}