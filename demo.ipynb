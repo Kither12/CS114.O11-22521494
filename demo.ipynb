{
  "cells": [
    {
      "cell_type": "markdown",
      "metadata": {
        "id": "view-in-github",
        "colab_type": "text"
      },
      "source": [
        "<a href=\"https://colab.research.google.com/github/Kither12/CS114.O11-22521494/blob/main/demo.ipynb\" target=\"_parent\"><img src=\"https://colab.research.google.com/assets/colab-badge.svg\" alt=\"Open In Colab\"/></a>"
      ]
    },
    {
      "cell_type": "code",
      "execution_count": null,
      "metadata": {
        "id": "ropHxoKyjQdG"
      },
      "outputs": [],
      "source": [
        "%%capture\n",
        "!pip install datasets==1.18.3\n",
        "!pip install transformers==4.17.0\n",
        "!pip install jiwer\n",
        "!pip install gradio==3.50"
      ]
    },
    {
      "cell_type": "code",
      "execution_count": null,
      "metadata": {
        "colab": {
          "base_uri": "https://localhost:8080/"
        },
        "id": "elcGduMxjZz4",
        "outputId": "ad1e8ffb-0f63-44b8-bdf3-4f533a437861"
      },
      "outputs": [
        {
          "name": "stdout",
          "output_type": "stream",
          "text": [
            "Drive already mounted at /content/drive; to attempt to forcibly remount, call drive.mount(\"/content/drive\", force_remount=True).\n"
          ]
        }
      ],
      "source": [
        "from google.colab import auth\n",
        "auth.authenticate_user()\n",
        "from google.colab import drive\n",
        "drive.mount('/content/drive')"
      ]
    },
    {
      "cell_type": "code",
      "execution_count": null,
      "metadata": {
        "id": "Ifhn0lCWv1Vv"
      },
      "outputs": [],
      "source": [
        "from transformers import Wav2Vec2CTCTokenizer\n",
        "tokenizer = Wav2Vec2CTCTokenizer(\"./vocab.json\", unk_token=\"[UNK]\", pad_token=\"[PAD]\", word_delimiter_token=\"|\")"
      ]
    },
    {
      "cell_type": "code",
      "execution_count": null,
      "metadata": {
        "id": "fdZktcY_6v6F"
      },
      "outputs": [],
      "source": [
        "from transformers import Wav2Vec2FeatureExtractor\n",
        "feature_extractor = Wav2Vec2FeatureExtractor(feature_size=1, sampling_rate=16000, padding_value=0.0, do_normalize=True, return_attention_mask=False)"
      ]
    },
    {
      "cell_type": "code",
      "execution_count": null,
      "metadata": {
        "id": "K5WkFpIc7W2j"
      },
      "outputs": [],
      "source": [
        "from transformers import Wav2Vec2Processor\n",
        "processor = Wav2Vec2Processor(feature_extractor=feature_extractor, tokenizer=tokenizer)"
      ]
    },
    {
      "cell_type": "code",
      "execution_count": null,
      "metadata": {
        "colab": {
          "base_uri": "https://localhost:8080/"
        },
        "id": "Oy76EEvljU3N",
        "outputId": "6b28b254-24f2-4917-e9d0-997c7a6cd674"
      },
      "outputs": [
        {
          "name": "stderr",
          "output_type": "stream",
          "text": [
            "/usr/local/lib/python3.10/dist-packages/torch/nn/utils/weight_norm.py:30: UserWarning: torch.nn.utils.weight_norm is deprecated in favor of torch.nn.utils.parametrizations.weight_norm.\n",
            "  warnings.warn(\"torch.nn.utils.weight_norm is deprecated in favor of torch.nn.utils.parametrizations.weight_norm.\")\n"
          ]
        }
      ],
      "source": [
        "from transformers import AutoModelForCTC, Wav2Vec2Processor, Wav2Vec2CTCTokenizer\n",
        "model = AutoModelForCTC.from_pretrained(\"/content/drive/MyDrive/checkpoint-7000\")"
      ]
    },
    {
      "cell_type": "code",
      "execution_count": null,
      "metadata": {
        "id": "8XcwM0VOmPZ8"
      },
      "outputs": [],
      "source": [
        "import gradio as gr\n",
        "from transformers import Wav2Vec2CTCTokenizer, Wav2Vec2ForCTC, Wav2Vec2ProcessorWithLM\n",
        "import torch\n",
        "import torchaudio\n"
      ]
    },
    {
      "cell_type": "code",
      "execution_count": null,
      "metadata": {
        "id": "pWr--r0T7x1Z"
      },
      "outputs": [],
      "source": [
        "def confidence_score(word_dict, index):\n",
        "    probs = pred_scores[index, word_dict[\"start_offset\"]: word_dict[\"end_offset\"]]\n",
        "    return round(torch.sum(probs).item() / (len(probs)), 4)"
      ]
    },
    {
      "cell_type": "code",
      "execution_count": null,
      "metadata": {
        "id": "HQ0oRfn77yiu"
      },
      "outputs": [],
      "source": []
    },
    {
      "cell_type": "code",
      "execution_count": null,
      "metadata": {
        "colab": {
          "background_save": true,
          "base_uri": "https://localhost:8080/",
          "height": 783
        },
        "id": "SLJ-2e9VmIby",
        "outputId": "f6e1fbc0-ba96-4a22-d125-631c9ac733a8"
      },
      "outputs": [
        {
          "name": "stderr",
          "output_type": "stream",
          "text": [
            "<ipython-input-40-388ca2085b0f>:26: GradioDeprecationWarning: Usage of gradio.inputs is deprecated, and will not be supported in the future, please import your component from gradio.components\n",
            "  inputs = gr.inputs.Audio(label=\"Input Audio\", type=\"filepath\")\n",
            "<ipython-input-40-388ca2085b0f>:26: GradioDeprecationWarning: `optional` parameter is deprecated, and it has no effect\n",
            "  inputs = gr.inputs.Audio(label=\"Input Audio\", type=\"filepath\")\n",
            "<ipython-input-40-388ca2085b0f>:27: GradioDeprecationWarning: Usage of gradio.outputs is deprecated, and will not be supported in the future, please import your components from gradio.components\n",
            "  outputs = gr.outputs.Textbox(label=\"Output Text\")\n"
          ]
        },
        {
          "name": "stdout",
          "output_type": "stream",
          "text": [
            "Setting queue=True in a Colab notebook requires sharing enabled. Setting `share=True` (you can turn this off by setting `share=False` in `launch()` explicitly).\n",
            "\n",
            "Colab notebook detected. This cell will run indefinitely so that you can see errors and logs. To turn off, set debug=False in launch().\n",
            "Running on public URL: https://c9847ae6ffdab8b103.gradio.live\n",
            "\n",
            "This share link expires in 72 hours. For free permanent hosting and GPU upgrades, run `gradio deploy` from Terminal to deploy to Spaces (https://huggingface.co/spaces)\n"
          ]
        },
        {
          "data": {
            "text/html": [
              "<div><iframe src=\"https://c9847ae6ffdab8b103.gradio.live\" width=\"100%\" height=\"500\" allow=\"autoplay; camera; microphone; clipboard-read; clipboard-write;\" frameborder=\"0\" allowfullscreen></iframe></div>"
            ],
            "text/plain": [
              "<IPython.core.display.HTML object>"
            ]
          },
          "metadata": {},
          "output_type": "display_data"
        },
        {
          "name": "stdout",
          "output_type": "stream",
          "text": [
            "confidence scores [{\"life's\": 89.5671, 'togh': 89.6137, 'but': 92.1863, \"it's\": 90.6489, 'tofer': 90.1736, 'whene': 88.1702, 'you': 92.2766, 'stuped': 89.3639}]\n",
            "model predict life's togh but it's tofer whene you stuped\n"
          ]
        }
      ],
      "source": [
        "def inference(audio):\n",
        "    speech_array, sampling_rate = torchaudio.load(audio)\n",
        "    speech_array = processor(speech_array, sampling_rate=16000)\n",
        "    with torch.no_grad():\n",
        "      logits = model(torch.tensor(speech_array['input_values'][0])).logits\n",
        "    pred_ids = torch.argmax(logits, dim=-1)\n",
        "\n",
        "    scores = torch.nn.functional.log_softmax(logits, dim=-1)\n",
        "    pred_scores = scores.gather(1, pred_ids.unsqueeze(-1))[:, :, 0]\n",
        "\n",
        "    output = processor.batch_decode(pred_ids, output_word_offsets=True)\n",
        "\n",
        "    # add confidence\n",
        "    def confidence_score(word_dict, index):\n",
        "        probs = pred_scores[index, word_dict[\"start_offset\"]: word_dict[\"end_offset\"]]\n",
        "        return round(torch.sum(probs).item() / (len(probs)), 4)\n",
        "\n",
        "    confidence_scores = []\n",
        "    for i in range(1):\n",
        "        confidence_scores.append({d[\"word\"]: confidence_score(d, i) + 100 for d in output.word_offsets[i]})\n",
        "    print(f'confidence scores {confidence_scores}')\n",
        "    print(f'model predict {processor.batch_decode(pred_ids)[0]}')\n",
        "    return\n",
        "\n",
        "\n",
        "inputs = gr.inputs.Audio(label=\"Input Audio\", type=\"filepath\")\n",
        "outputs = gr.outputs.Textbox(label=\"Output Text\")\n",
        "title = 'wav2vec2'\n",
        "description = f\"Gradio demo for a {title}. To use it, simply upload your audio, or click one of the examples to load them. Read more at the links below. Currently supports .wav 16_000hz files\"\n",
        "article = \"<p style='text-align: center'><a href='https://github.com/egorsmkv/wav2vec2-uk-demo' target='_blank'> Github repo</a> | <a href='<HF Space link>' target='_blank'>Pretrained model</a> | Made with help from <a href='https://github.com/robinhad' target='_blank'>@robinhad</a></p>\"\n",
        "examples = []\n",
        "gr.Interface(\n",
        "    inference,\n",
        "    inputs,\n",
        "    outputs,\n",
        "    title=title,\n",
        "    description=description,\n",
        "    article=article,\n",
        "    examples=examples,\n",
        ").launch(debug=True)"
      ]
    },
    {
      "cell_type": "code",
      "execution_count": null,
      "metadata": {
        "id": "kv2xk7GBojlE"
      },
      "outputs": [],
      "source": []
    }
  ],
  "metadata": {
    "colab": {
      "provenance": [],
      "authorship_tag": "ABX9TyOPur9E5TnS5eYnhZWxmP2l",
      "include_colab_link": true
    },
    "kernelspec": {
      "display_name": "Python 3",
      "name": "python3"
    },
    "language_info": {
      "name": "python"
    }
  },
  "nbformat": 4,
  "nbformat_minor": 0
}